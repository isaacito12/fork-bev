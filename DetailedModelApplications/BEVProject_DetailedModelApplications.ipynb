{
 "cells": [
  {
   "cell_type": "markdown",
   "metadata": {},
   "source": [
    "\n",
    "# <span style=\"color:rgb(213,80,0)\">BEV Project Detailed Model Applications</span>\n",
    "## Permanent Magnet Synchronous Motor (PMSM)\n",
    "#### 3-Phase PMSM and Field Oriented Control (FOC)\n",
    "\n",
    "In the BEV system model, an abstract motor block is used for fast simulation, but the block needs electrical loss data in its parameters. To obtain the loss data, a more detailed AC 3-phase synchronous motor and FOC controller are used.\n",
    "\n",
    "-  [Open](matlab:MotorDrive_testHarness) the PMSM+FOC test harness model.\n",
    "-  [Open](matlab:edit MotorDrive_testParams) the script containing test harness parameters.\n",
    "-  [Open](matlab:edit MotorDrivePmsmFemParams) the script containing model parameters.\n",
    "-  [Open](matlab:edit MotorDrive_runSim) the script to run simulation.\n",
    "-  [Open](matlab:edit MotorDrive_calcElectricEfficiency.mlx) the script to obtain electrical efficiency data.\n",
    "### Synchronous Motor\n",
    "\n",
    "The PMSM model used above is parameterized based on the magnetic field data, which was imported from an electromagnetic system design tool to FEM-Parameterized PMSM block in Simscape Electrical.\n",
    "\n",
    "-  [Open](matlab:PmsmFem_testHarness) the motor model.\n",
    "-  [Open](matlab:edit PmsmFemParams) the script containing model parameters.\n",
    "\n",
    "*Copyright 2020-2023 The MathWorks, Inc.*\n",
    "\n",
    ""
   ]
  }
 ],
 "metadata": {
  "kernelspec": {
   "display_name": "MATLAB (matlabkernel)",
   "language": "matlab",
   "name": "matlab"
  },
  "language_info": {
   "file_extension": ".m",
   "mimetype": "text/matlab",
   "name": "matlab",
   "nbconvert_exporter": "matlab",
   "pygments_lexer": "matlab",
   "version": "23.2.0.2365128"
  }
 },
 "nbformat": 4,
 "nbformat_minor": 4
}