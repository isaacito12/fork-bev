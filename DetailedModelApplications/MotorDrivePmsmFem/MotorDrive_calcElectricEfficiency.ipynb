{
 "cells": [
  {
   "cell_type": "markdown",
   "metadata": {},
   "source": [
    "\n",
    "# <span style=\"color:rgb(213,80,0)\">Generate Electrical Efficiency/Losses Data for Synchronous Motor Drive System</span>\n",
    "\n",
    "Copyright 2020 The MathWorks, Inc.\n",
    "\n",
    "\n",
    "The purpose of this script is to calculate **the total electrical efficiency/losses of synchronous motor drive system** using a detailed 3-phase AC system model.\n",
    "\n",
    "\n",
    "The model [MotorDrive_testHarness.slx](matlab:open_system(\"MotorDrive_testHarness\")) consists of the detailed 3-phase synchronous motor, interver, and motor controller. This script runs the model in various operating conditions to collect AC steady-state data, and then computes electrical losses in the post process. The losses data produced in this script can be used in **Simplified PMSM Drive** block in Simscape Electrical for fast-running simulation purpose.\n",
    "\n",
    "## Set up"
   ]
  },
  {
   "cell_type": "code",
   "execution_count": 1,
   "metadata": {},
   "source": [
    "% Load parameters\n",
    "MotorDrive_testParams"
   ],
   "outputs": [
    {
     "data": {
      "text/plain": [
       "Unrecognized function or variable 'ee_ece_table'.\n",
       "Error in PmsmFemParams (line 9)\n",
       "ee_ece_table\n",
       "Error in MotorDrivePmsmFemParams (line 5)\n",
       "PmsmFemParams\n",
       "Error in MotorDrive_testParams (line 5)\n",
       "MotorDrivePmsmFemParams"
      ]
     },
     "metadata": {},
     "execution_count":  1,
     "output_type": "execute_result"
    }
   ]
  },
  {
   "cell_type": "code",
   "execution_count": 2,
   "metadata": {},
   "source": [
    "\n",
    "% Open model and set up simulation\n",
    "mdl = \"MotorDrive_testHarness\";\n",
    "if not(bdIsLoaded(mdl)), open_system(mdl); end\n",
    "\n",
    "set_param(mdl, ...\n",
    "  'SimscapeLogOpenViewer', 'off',...\n",
    "  'EnablePacing', 'off',...\n",
    "  'SolverType', 'Variable-step',...\n",
    "  'Solver', 'VariableStepAuto',...\n",
    "  'SaveTime', 'on',...\n",
    "  'TimeSaveName', 'tout',...\n",
    "  'SignalLogging', 'on',...\n",
    "  'SignalLoggingName', 'logsout',...\n",
    "  'SimscapeLogType', 'local',...\n",
    "  'SimscapeLogSimulationStatistics', 'off',...\n",
    "  'SimscapeLogToSDI', 'off',...\n",
    "  'SimscapeLogName', 'logsoutssc',...\n",
    "  'SimscapeLogDecimation', 1,...\n",
    "  'SimscapeLogLimitData', 'off',...\n",
    "  'ReturnWorkspaceOutputs', 'on',...\n",
    "  'ReturnWorkspaceOutputsName', 'out');\n",
    "\n",
    "set_param(mdl+\"/Motor Drive/FEM-Parameterized PMSM\", \"LogSimulationData\", \"on\")\n",
    "  % necessary for electrical loss calculation after simulation\n",
    "\n",
    "tMax = 0.2;  % Simulation time > 60/rpm0/N\n",
    "set_param(mdl, 'StopTime',num2str(tMax))\n",
    "\n",
    "set_param(mdl, 'FastRestart', 'on')\n",
    "save_system(mdl)\n",
    "\n",
    "prjRoot = currentProject().RootFolder;\n",
    "topicFolderPath = fullfile(prjRoot, \"DetailedModelApplications\", \"MotorDrivePmsmFem\");\n",
    "assert(isfolder(topicFolderPath))"
   ],
   "outputs": []
  },
  {
   "cell_type": "markdown",
   "metadata": {},
   "source": [
    "## Run Simulations\n",
    "\n",
    "Generate a simulation input data set in different operating conditions to collect physical signals in AC steady state.\n",
    "\n",
    "#### Define torque and speed conditions"
   ]
  },
  {
   "cell_type": "code",
   "execution_count": 3,
   "metadata": {},
   "source": [
    "% The ranges specified below are rather narrow for electric vehicle motors.\n",
    "% This is due to the lack of sufficient motor data for FEM-Parameterized PMSM block\n",
    "% as well as to the limitation of the FOC controller used in the model.\n",
    "SpeedVec = [100, 450, 800, 1150, 1500];  % rpm\n",
    "TorqueVec = [10, 45, 80, 115, 150];  % N*m"
   ],
   "outputs": []
  },
  {
   "cell_type": "markdown",
   "metadata": {},
   "source": [
    "#### **Build simulation input data set and run simulations**"
   ]
  },
  {
   "cell_type": "code",
   "execution_count": 4,
   "metadata": {},
   "source": [
    "nS = length(SpeedVec);\n",
    "nT = length(TorqueVec);\n",
    "\n",
    "clear in\n",
    "in(1:nS, 1:nT) = Simulink.SimulationInput(mdl);\n",
    "for i_spd = 1:nS\n",
    "  for i_trq = 1:nT\n",
    "    rpm0 = SpeedVec(i_spd);\n",
    "    torque0 = TorqueVec(i_trq);\n",
    "\n",
    "    % First two setBlockParameter calls are used by Simulation Manager's\n",
    "    % default Figure window to show the progress of simulations.\n",
    "    % First one for horizontal, left to right.\n",
    "    % Second one for vertical, bottom to top.\n",
    "    in(i_spd,i_trq) = in(i_spd,i_trq).setBlockParameter(mdl+\"/Constant Target Speed\", 'Value',num2str(rpm0));\n",
    "    in(i_spd,i_trq) = in(i_spd,i_trq).setBlockParameter(mdl+\"/Step Load Torque\", 'After',num2str(torque0));\n",
    "\n",
    "    in(i_spd,i_trq) = in(i_spd,i_trq).setBlockParameter(mdl+\"/Load inertia\", 'w',num2str(rpm0));\n",
    "    in(i_spd,i_trq) = in(i_spd,i_trq).setBlockParameter(mdl+\"/Motor Drive/FEM-Parameterized PMSM\", ...\n",
    "                'angular_velocity',num2str(rpm0));\n",
    "    in(i_spd,i_trq) = in(i_spd,i_trq).setBlockParameter(mdl+\"/Motor Drive/FEM-Parameterized PMSM\", ...\n",
    "                'angular_velocity_priority','High');\n",
    "  end\n",
    "end\n",
    "\n",
    "%out = sim(in, \"ShowSimulationManager\",\"on\");\n",
    "out = parsim(in, \"ShowSimulationManager\",\"on\");  % need Parallel Computing Toolbox"
   ],
   "outputs": []
  },
  {
   "cell_type": "markdown",
   "metadata": {},
   "source": [
    "## **Visually Inspect Motor Speed Behavior**"
   ]
  },
  {
   "cell_type": "code",
   "execution_count": 5,
   "metadata": {},
   "source": [
    "clear result\n",
    "result(1:nS,1:nT) = struct('spd',0, 'trq',0, 'log',timeseries);\n",
    "for i_spd = 1:nS  % speed\n",
    "  for i_trq = 1:nT  % torque\n",
    "    spd = SpeedVec(i_spd);\n",
    "    trq = TorqueVec(i_trq);\n",
    "    result(i_spd,i_trq).spd = spd;\n",
    "    result(i_spd,i_trq).trq = trq;\n",
    "    result(i_spd,i_trq).log = out(i_spd,i_trq).logsout.get(\"<motorSpd>\").Values;\n",
    "  end\n",
    "end\n",
    "\n",
    "f = figure;\n",
    "f.Position(3:4) = [800 600];\n",
    "tl = tiledlayout(nT, nS);\n",
    "tl.TileSpacing = \"compact\";\n",
    "tl.Padding = \"compact\";\n",
    "title(tl, \"Motor speed for various load torques and target speeds\")\n",
    "for i_trq = 1:nT  % torque\n",
    "  for i_spd = 1:nS  % speed\n",
    "    nexttile\n",
    "    irev_trq = nT - i_trq + 1;\n",
    "    plot(result(i_spd,irev_trq).log.Time, result(i_spd,irev_trq).log.Data)\n",
    "    title(num2str(result(i_spd,irev_trq).trq) + \" N*m, \" + num2str(result(i_spd,irev_trq).spd) + \" rpm\")\n",
    "  end\n",
    "end"
   ],
   "outputs": []
  },
  {
   "cell_type": "markdown",
   "metadata": {},
   "source": [
    "## Obtain Electrical Losses\n",
    "\n",
    "Use the [ee_getPowerLossSummary](matlab:web(fullfile(docroot, 'physmod/sps/ref/ee_getpowerlosssummary.html'))) API from Simscape Electrical to obtain electrical losses in the motor. Make sure the signals in the motor block were logged during simulation.\n",
    ""
   ]
  },
  {
   "cell_type": "code",
   "execution_count": 6,
   "metadata": {},
   "source": [
    "Losses = zeros(nS,nT);\n",
    "for i_spd = 1:nS\n",
    "  for i_trq = 1:nT\n",
    "    rpm0_abs = abs(SpeedVec(i_spd));\n",
    "    % Time range for last full AC cycle\n",
    "    tMin = tMax - 60/rpm0_abs/PmsmFem.NumPolePairs;\n",
    "    assert(tMin < tMax)\n",
    "    % Extract losses\n",
    "    tabulatedLosses = ee_getPowerLossSummary(out(i_spd,i_trq).logsoutssc, tMin, tMax);\n",
    "    Losses(i_spd,i_trq) = sum(tabulatedLosses.Power);\n",
    "  end\n",
    "end"
   ],
   "outputs": []
  },
  {
   "cell_type": "markdown",
   "metadata": {},
   "source": [
    "\n",
    " **Visualize**\n",
    ""
   ]
  },
  {
   "cell_type": "code",
   "execution_count": 7,
   "metadata": {},
   "source": [
    "SpeedVecLabels = cell(1,nS);\n",
    "for idx = 1:nS\n",
    "  SpeedVecLabels{idx} = num2str(SpeedVec(idx));\n",
    "end\n",
    "\n",
    "TorqueVecLabels = cell(1,nT);\n",
    "for idx = 1:nT\n",
    "  TorqueVecLabels{idx} = num2str(TorqueVec(idx));\n",
    "end\n",
    "\n",
    "figure\n",
    "hmap = heatmap(SpeedVecLabels, TorqueVecLabels, Losses);\n",
    "hmap.YDisplayData = flip(TorqueVecLabels);\n",
    "hmap.Title = \"Electrical Losses (W)\";\n",
    "hmap.XLabel = \"Speed (rpm)\";\n",
    "hmap.YLabel = \"Torque (N*m)\";"
   ],
   "outputs": []
  },
  {
   "cell_type": "markdown",
   "metadata": {},
   "source": [
    "\n",
    "**Store the result for use by other models**\n",
    "\n",
    "\n",
    "You can use the tabulated electrical losses in **Simplified PMSM Drive** block in Simscape Electrical.\n",
    ""
   ]
  },
  {
   "cell_type": "code",
   "execution_count": 8,
   "metadata": {},
   "source": [
    "% Make sure the losses data is stored in a 2D matrix as Losses(SpeedVec, TorqueVec).\n",
    "motorDrive.simplePmsmDrv_spdVec_rpm = SpeedVec;\n",
    "motorDrive.simplePmsmDrv_trqVec_Nm = TorqueVec;\n",
    "motorDrive.simplePmsmDrv_LossTbl_W = Losses;\n",
    "\n",
    "saveFileFullPath = fullfile(topicFolderPath, \"MotorDriveElecLossParams.mat\");\n",
    "save(saveFileFullPath, \"motorDrive\");\n",
    "% The file is saved in the current folder.\n",
    "%disp(\"Mat file was saved in \"+pwd)"
   ],
   "outputs": []
}
,
  {
   "cell_type": "markdown",
   "metadata": {},
   "source": [
    "\n",
    "Save command stores the data in a mat file which is a binary file. For your information, a text version of the electrical losses parameter is provided in [MotorDriveElecLossParams_text.m](matlab:edit MotorDriveElecLossParams_text.m) (but loss values are rounded for simplicity).\n",
    "\n",
    ""
   ]
  }
 ],
 "metadata": {
  "kernelspec": {
   "display_name": "MATLAB (matlabkernel)",
   "language": "matlab",
   "name": "matlab"
  },
  "language_info": {
   "file_extension": ".m",
   "mimetype": "text/matlab",
   "name": "matlab",
   "nbconvert_exporter": "matlab",
   "pygments_lexer": "matlab",
   "version": "23.2.0.2365128"
  }
 },
 "nbformat": 4,
 "nbformat_minor": 4
}