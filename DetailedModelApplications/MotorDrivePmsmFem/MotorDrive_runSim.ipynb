{
 "cells": [
  {
   "cell_type": "markdown",
   "metadata": {},
   "source": [
    "\n",
    "# <span style=\"color:rgb(213,80,0)\">Run Motor Drive Simulation</span>\n",
    "\n",
    "Copyright 2020-2022 The MathWorks, Inc.\n",
    ""
   ]
  },
  {
   "cell_type": "code",
   "execution_count": 1,
   "metadata": {},
   "source": [
    "% Specify test cases\n",
    "clear testCases\n",
    "idx=1;  testCases(idx).rpm = 1500;   testCases(idx).torque = 150;\n",
    "idx=2;  testCases(idx).rpm =  700;   testCases(idx).torque =  50;\n",
    "idx=3;  testCases(idx).rpm = -1500;  testCases(idx).torque = -150;\n",
    "idx=4;  testCases(idx).rpm =  -700;  testCases(idx).torque =  -50;\n",
    "\n",
    "% Load parameters\n",
    "MotorDrive_testParams"
   ],
   "outputs": [
    {
     "data": {
      "text/plain": [
       "Unrecognized function or variable 'ee_ece_table'.\n",
       "Error in PmsmFemParams (line 9)\n",
       "ee_ece_table\n",
       "Error in MotorDrivePmsmFemParams (line 5)\n",
       "PmsmFemParams\n",
       "Error in MotorDrive_testParams (line 5)\n",
       "MotorDrivePmsmFemParams"
      ]
     },
     "metadata": {},
     "execution_count":  1,
     "output_type": "execute_result"
    }
   ]
  },
  {
   "cell_type": "code",
   "execution_count": 2,
   "metadata": {},
   "source": [
    "\n",
    "% Open model and set up simulation\n",
    "mdl = \"MotorDrive_testHarness\";\n",
    "if not(bdIsLoaded(mdl)), open_system(mdl); end\n",
    "\n",
    "set_param(mdl,...\n",
    "  'FastRestart', 'off',...\n",
    "  'SimscapeLogOpenViewer', 'off',...\n",
    "  'EnablePacing', 'off',...\n",
    "  'SolverType', 'Variable-step',...\n",
    "  'Solver', 'VariableStepAuto',...\n",
    "  'SaveTime', 'on',...\n",
    "  'TimeSaveName', 'tout',...\n",
    "  'SignalLogging', 'on',...\n",
    "  'SignalLoggingName', 'logsout',...\n",
    "  'SimscapeLogType', 'local',...\n",
    "  'SimscapeLogSimulationStatistics', 'off',...\n",
    "  'SimscapeLogToSDI', 'off',...\n",
    "  'SimscapeLogName', 'logsoutssc',...\n",
    "  'SimscapeLogDecimation', 1,...\n",
    "  'SimscapeLogLimitData', 'off',...\n",
    "  'ReturnWorkspaceOutputs', 'on',...\n",
    "  'ReturnWorkspaceOutputsName', 'out');\n",
    "\n",
    "nSims = numel(testCases);\n",
    "clear in\n",
    "in(1:nSims) = Simulink.SimulationInput(mdl);\n",
    "for idx = 1:nSims\n",
    "  rpm = testCases(idx).rpm;\n",
    "  in(idx) = in(idx).setBlockParameter(mdl+\"/Constant Target Speed\", 'Value',num2str(rpm));\n",
    "  in(idx) = in(idx).setBlockParameter(mdl+\"/Load inertia\", 'w',num2str(rpm));\n",
    "  in(idx) = in(idx).setBlockParameter(mdl+\"/Motor Drive/FEM-Parameterized PMSM\",...\n",
    "                                      'angular_velocity',num2str(rpm));\n",
    "  in(idx) = in(idx).setBlockParameter(mdl+\"/Motor Drive/FEM-Parameterized PMSM\",...\n",
    "                                      'angular_velocity_priority','High');\n",
    "\n",
    "  torque = testCases(idx).torque;\n",
    "  in(idx) = in(idx).setBlockParameter(mdl+\"/Step Load Torque\", 'After',num2str(torque));\n",
    "end\n",
    "\n",
    "% run simulation\n",
    "out = sim(in);"
   ],
   "outputs": []
  },
  {
   "cell_type": "markdown",
   "metadata": {},
   "source": [
    "## Simulation Results"
   ]
  },
  {
   "cell_type": "code",
   "execution_count": 3,
   "metadata": {},
   "source": [
    "f = figure;\n",
    "f.Position(3:4) = [800 400];\n",
    "tiledlayout(nSims,2)\n",
    "for idx = 1:nSims\n",
    "  nexttile\n",
    "  series = out(idx).logsoutssc.Motor_Drive.Encoder.Torque_Sensor.t.series;\n",
    "  plot(series.time, series.values(\"N*m\"))\n",
    "  hold on;  grid on\n",
    "  vals = out(idx).logsout.get(\"FOC_TrqRef_Nm\").Values;\n",
    "  plot(vals.Time, vals.Data)\n",
    "  vals = out(idx).logsout.get(\"Load Torque\").Values;\n",
    "  plot(vals.Time, vals.Data)\n",
    "  title(\"Test case \"+num2str(idx)+\": Motor Torque\")\n",
    "  ylabel(\"N*m\");  xlabel(\"Time (s)\")\n",
    "  legend(\"Achieved\", \"Target\", \"Load torque\")\n",
    "  hold off\n",
    "\n",
    "  nexttile\n",
    "  % Updated w to W:\n",
    "  series = out(idx).logsoutssc.Motor_Drive.Encoder.Rotational_Motion_Sensor.W.series;\n",
    "  plot(series.time, series.values(\"rpm\"))\n",
    "  hold on;  grid on\n",
    "  vals = out(idx).logsout.get(\"Target Speed\").Values;\n",
    "  plot(vals.Time, vals.Data)\n",
    "  title(\"Test case \"+num2str(idx)+\": Motor Speed\")\n",
    "  ylabel(\"rpm\");  xlabel(\"Time (s)\")\n",
    "  legend(\"Achieved\", \"Target\")\n",
    "  hold off\n",
    "end\n",
    "f = figure;\n",
    "f.Position(3:4) = [800 400];\n",
    "tiledlayout(nSims,2)\n",
    "for idx=1:nSims\n",
    "  nexttile\n",
    "  vals = out(idx).logsout.get(\"PMSM Phase Currents\").Values;\n",
    "  plot(vals.Time, vals.Data)\n",
    "  ylabel(\"A\");  xlabel(\"Time (s)\");\n",
    "  title(\"Test case \"+num2str(idx)+\": PMSM Phase Currents\")\n",
    "\n",
    "  nexttile\n",
    "  vals = out(idx).logsout.get(\"PMSM Phase Voltages\").Values;\n",
    "  plot(vals.Time, vals.Data)\n",
    "  ylabel(\"V\");  xlabel(\"Time (s)\");\n",
    "  title(\"Test case \"+num2str(idx)+\": PMSM Phase Voltages\")\n",
    "end"
   ],
   "outputs": []
}
 ],
 "metadata": {
  "kernelspec": {
   "display_name": "MATLAB (matlabkernel)",
   "language": "matlab",
   "name": "matlab"
  },
  "language_info": {
   "file_extension": ".m",
   "mimetype": "text/matlab",
   "name": "matlab",
   "nbconvert_exporter": "matlab",
   "pygments_lexer": "matlab",
   "version": "23.2.0.2365128"
  }
 },
 "nbformat": 4,
 "nbformat_minor": 4
}