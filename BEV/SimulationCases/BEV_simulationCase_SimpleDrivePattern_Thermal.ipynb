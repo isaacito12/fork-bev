{
 "cells": [
  {
   "cell_type": "markdown",
   "metadata": {},
   "source": [
    "\n",
    "# <span style=\"color:rgb(213,80,0)\">BEV System Model - Simulation Case</span>"
   ]
  },
  {
   "cell_type": "code",
   "execution_count": 1,
   "metadata": {},
   "source": [
    "modelName = \"BEV_system_model\";\n",
    "load_system(modelName)\n",
    "% Use thermal-model-enabled components.\n",
    "BEV_useComponents_Thermal"
   ],
   "outputs": [
    {
     "data": {
      "text/plain": [
       "Use thermal models for Motor Drive Unit and High Voltage Battery components."
      ]
     },
     "metadata": {},
     "execution_count":  1,
     "output_type": "execute_result"
    }
   ]
  },
  {
   "cell_type": "code",
   "execution_count": 2,
   "metadata": {},
   "source": [
    "VehSpdRef_loadSimulationCase_SimpleDrivePattern( ...\n",
    "  ModelName = modelName, ...\n",
    "  TargetSubsystemPath = ...\n",
    "    \"/Controller & Environment\" + ...\n",
    "    \"/Vehicle speed reference\" )"
   ],
   "outputs": [
    {
     "data": {
      "text/plain": [
       "Setting up simulation...\n",
       "Simulation case: Simple drive pattern\n",
       "Setting simulation stop time to 100 sec.\n",
       "Selecting simulation case 1."
      ]
     },
     "metadata": {},
     "execution_count":  2,
     "output_type": "execute_result"
    }
   ]
  },
  {
   "cell_type": "code",
   "execution_count": 3,
   "metadata": {},
   "source": [
    "simOut = sim(modelName);"
   ],
   "outputs": [
    {
     "data": {
      "text/plain": [
       "Invalid setting in 'BEV_system_model/Controller & Environment/BEV Controller/Motor Speed Reference/Constant1' for parameter 'Value'.\n",
       "Caused by:\n",
       "    Error using BEV_simulationCase_SimpleDrivePattern_Thermal\n",
       "    Error evaluating parameter 'Value' in 'BEV_system_model/Controller & Environment/BEV Controller/Motor Speed Reference/Constant1'\n",
       "        Error using BEV_simulationCase_SimpleDrivePattern_Thermal\n",
       "        Unable to resolve the name 'bevControl.MotorSpdRef_tireRollingRadius_m'."
      ]
     },
     "metadata": {},
     "execution_count":  3,
     "output_type": "execute_result"
    }
   ]
  },
  {
   "cell_type": "code",
   "execution_count": 4,
   "metadata": {},
   "source": [
    "simData = extractTimetable(simOut.logsout);\n",
    "fig = BEV_plotResultsCompact( SimData = simData );"
   ],
   "outputs": []
}
,
  {
   "cell_type": "markdown",
   "metadata": {},
   "source": [
    "\n",
    "*Copyright 2023 The MathWorks, Inc.*\n",
    "\n",
    ""
   ]
  }
 ],
 "metadata": {
  "kernelspec": {
   "display_name": "MATLAB (matlabkernel)",
   "language": "matlab",
   "name": "matlab"
  },
  "language_info": {
   "file_extension": ".m",
   "mimetype": "text/matlab",
   "name": "matlab",
   "nbconvert_exporter": "matlab",
   "pygments_lexer": "matlab",
   "version": "23.2.0.2365128"
  }
 },
 "nbformat": 4,
 "nbformat_minor": 4
}