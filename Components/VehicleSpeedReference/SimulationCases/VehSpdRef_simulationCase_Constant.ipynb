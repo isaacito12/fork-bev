{
 "cells": [
  {
   "cell_type": "markdown",
   "metadata": {},
   "source": [
    "\n",
    "# <span style=\"color:rgb(213,80,0)\">Vehicle Speed Reference - Simulation Case</span>"
   ]
  },
  {
   "cell_type": "code",
   "execution_count": 1,
   "metadata": {},
   "source": [
    "mdl = \"VehSpdRef_harness_model\";\n",
    "if not(bdIsLoaded(mdl))\n",
    "  load_system(mdl)\n",
    "end\n",
    "% No setup script is used with this harness model.\n",
    "VehSpdRef_loadSimulationCase_Constant"
   ],
   "outputs": [
    {
     "data": {
      "text/plain": [
       "Setting up simulation...\n",
       "Simulation case: Constant\n",
       "Setting simulation stop time to 1000 sec.\n",
       "Selecting simulation case 5.\n",
       "Error using VehSpdRef_loadSimulationCase\n",
       "Failed to modify 'VehSpdRef_harness_model/Vehicle speed reference' because it is locked by 'BEV_system_model/Controller & Environment/Vehicle speed reference'.\n",
       "Error in VehSpdRef_loadSimulationCase_Constant (line 13)\n",
       "VehSpdRef_loadSimulationCase( ..."
      ]
     },
     "metadata": {},
     "execution_count":  1,
     "output_type": "execute_result"
    }
   ]
  },
  {
   "cell_type": "code",
   "execution_count": 2,
   "metadata": {},
   "source": [
    "simOut = sim(mdl);\n",
    "simData = extractTimetable(simOut.logsout);\n",
    "VehSpdRef_plotResults( SimData = simData );"
   ],
   "outputs": []
}
,
  {
   "cell_type": "markdown",
   "metadata": {},
   "source": [
    "\n",
    "*Copyright 2023 The MathWorks, Inc.*\n",
    "\n",
    ""
   ]
  }
 ],
 "metadata": {
  "kernelspec": {
   "display_name": "MATLAB (matlabkernel)",
   "language": "matlab",
   "name": "matlab"
  },
  "language_info": {
   "file_extension": ".m",
   "mimetype": "text/matlab",
   "name": "matlab",
   "nbconvert_exporter": "matlab",
   "pygments_lexer": "matlab",
   "version": "23.2.0.2365128"
  }
 },
 "nbformat": 4,
 "nbformat_minor": 4
}