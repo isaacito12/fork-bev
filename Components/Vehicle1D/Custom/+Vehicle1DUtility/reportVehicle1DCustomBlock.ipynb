{
 "cells": [
  {
   "cell_type": "markdown",
   "metadata": {},
   "source": [
    "\n",
    "# <span style=\"color:rgb(213,80,0)\">Road-Load Property of Vehicle 1D Custom Block</span>\n",
    "\n",
    "This Live Script collects block parameter values from Vehcle 1D Custom block and plots the road-load resisting force and power. Make sure you have selected the block in Simulink canvas before running this script.\n",
    ""
   ]
  },
  {
   "cell_type": "code",
   "execution_count": 1,
   "metadata": {},
   "source": [
    "% Get parameter values from the block.\n",
    "% Make sure you have selected the vehicle block before running this script.\n",
    "block_info = Vehicle1DUtility.getVehicle1DCustomBlockInfo(gcbh);"
   ],
   "outputs": [
    {
     "data": {
      "text/plain": [
       "Error using Vehicle1DUtility.getVehicle1DCustomBlockInfo>@(p)evalin('base',get_param(blk_gcbh,p))\n",
       "Solver\n",
       "Configuration block (mask) does not have a parameter named 'M_e'\n",
       "Error in Vehicle1DUtility.getVehicle1DCustomBlockInfo (line 10)\n",
       "info.M_e_kg = getp('M_e');"
      ]
     },
     "metadata": {},
     "execution_count":  1,
     "output_type": "execute_result"
    }
   ]
  },
  {
   "cell_type": "code",
   "execution_count": 2,
   "metadata": {},
   "source": [
    "\n",
    "fig = Vehicle1DUtility.plotRoadLoad( ...\n",
    "  VehicleMass_kg = block_info.M_e_kg, ...\n",
    "  RoadLoadA_N = block_info.A_rl_N, ...\n",
    "  RoadLoadB_N_per_kph = block_info.B_rl_N_per_kph, ...\n",
    "  RoadLoadC_N_per_kph2 = block_info.C_rl_N_per_kph2, ...\n",
    "  GravitationalAcceleration_m_per_s2 = block_info.grav_m_per_s2, ...\n",
    "  VehicleSpeedVector_kph = linspace(0, 160, 200), ...\n",
    "  RoadGradeVector_pct = [45, 30, 15, 0] );\n",
    "\n",
    "fig.Position(3:4) = [500 400];  % width height"
   ],
   "outputs": []
}
,
  {
   "cell_type": "markdown",
   "metadata": {},
   "source": [
    "\n",
    "*Copyright 2021-2022 The MathWorks, Inc.*\n",
    "\n",
    ""
   ]
  }
 ],
 "metadata": {
  "kernelspec": {
   "display_name": "MATLAB (matlabkernel)",
   "language": "matlab",
   "name": "matlab"
  },
  "language_info": {
   "file_extension": ".m",
   "mimetype": "text/matlab",
   "name": "matlab",
   "nbconvert_exporter": "matlab",
   "pygments_lexer": "matlab",
   "version": "23.2.0.2365128"
  }
 },
 "nbformat": 4,
 "nbformat_minor": 4
}