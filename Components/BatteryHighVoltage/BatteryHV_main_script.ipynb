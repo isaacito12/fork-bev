{
 "cells": [
  {
   "cell_type": "markdown",
   "metadata": {},
   "source": [
    "\n",
    "<a name=\"T_1FFD3858\"></a>\n",
    "# <span style=\"color:rgb(213,80,0)\">High Voltage Battery - Main Script</span>\n",
    "\n",
    "This is a component to simulate the abstract dynamics of a high voltage battery pack.\n",
    "\n",
    "## Models\n",
    "\n",
    "This component provides four models of a high voltage battery:\n",
    "\n",
    "-   **Basic** model ... is the simplest model and computes the voltage and current of the battery with no temperature dependence.\n",
    "-   **Simple system** model ... is the second simplest model, built with [Battery (System-Level) block](https://www.mathworks.com/help/sdl/ref/batterysystemlevel.html) from Simscape Driveline. This model has a simple equation-based terminal voltage model computed from the state of charge (SOC). This model also computes the battery temperature from dissipated energy.\n",
    "-   **System** model ... is a model built with [Battery block](https://www.mathworks.com/help/sps/ref/battery.html) from Simscape Battery and Simscape Electrical. This model can simulate the terminal voltage more accurately than the simple system model above, but it requires more parameters. Optionally, this model can also simulate charging dynamics, fade, and aging.\n",
    "-   **Table-based system** model ... is a model built with [Battery (Table-Based) block](https://www.mathworks.com/help/sps/ref/batterytablebased.html) from Simscape Battery and Simscape Electrical. This model takes tabulated data for open-circuit voltage and terminal resistance as a function of temperature and SOC. This model also needs the number of cells and their series-parallel circuit configuration information. Similar to the system model above, this model can optionally simulate charging dynamics, fade, and aging.\n",
    "## Simulation cases\n",
    "\n",
    "To validate the component, a harness model is used to run some simulation cases. Click the links below to see the simulation results.\n",
    "\n",
    "-  [Charging](matlab:openFile('BatteryHV_simulationCase_Charge'))\n",
    "-  [Discharging](matlab:openFile('BatteryHV_simulationCase_Discharge'))\n",
    "-  [Random load current](matlab:openFile('BatteryHV_simulationCase_Random'))\n",
    "-  [Constant load current](matlab:openFile('BatteryHV_simulationCase_Constant'))\n",
    "\n",
    "*Copyright 2020-2023 The Mathworks, Inc.*\n",
    "\n",
    ""
   ]
  }
 ],
 "metadata": {
  "kernelspec": {
   "display_name": "MATLAB (matlabkernel)",
   "language": "matlab",
   "name": "matlab"
  },
  "language_info": {
   "file_extension": ".m",
   "mimetype": "text/matlab",
   "name": "matlab",
   "nbconvert_exporter": "matlab",
   "pygments_lexer": "matlab",
   "version": "23.2.0.2365128"
  }
 },
 "nbformat": 4,
 "nbformat_minor": 4
}