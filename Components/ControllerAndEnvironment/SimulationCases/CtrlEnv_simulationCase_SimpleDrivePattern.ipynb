{
 "cells": [
  {
   "cell_type": "markdown",
   "metadata": {},
   "source": [
    "\n",
    "# <span style=\"color:rgb(213,80,0)\">Controller and Environment - Simulation Case</span>"
   ]
  },
  {
   "cell_type": "code",
   "execution_count": 1,
   "metadata": {},
   "source": [
    "mdl = \"CtrlEnv_harness_model\";\n",
    "if not(bdIsLoaded(mdl))\n",
    "  load_system(mdl)\n",
    "end\n",
    "CtrlEnv_harness_setup\n",
    "CtrlEnv_loadSimulationCase_SimpleDrivePattern"
   ],
   "outputs": [
    {
     "data": {
      "text/plain": [
       "Setting up simulation...\n",
       "Simulation case: Simple drive pattern\n",
       "Setting simulation stop time to 100 sec.\n",
       "Selecting simulation case 1.\n",
       "Error using CtrlEnv_loadSimulationCase\n",
       "Failed to modify 'CtrlEnv_harness_model/Controller and Environment/Vehicle speed reference' because it is locked by 'BEV_system_model/Controller & Environment/Vehicle speed reference'.\n",
       "Error in CtrlEnv_loadSimulationCase_SimpleDrivePattern (line 13)\n",
       "CtrlEnv_loadSimulationCase( ..."
      ]
     },
     "metadata": {},
     "execution_count":  1,
     "output_type": "execute_result"
    }
   ]
  },
  {
   "cell_type": "code",
   "execution_count": 2,
   "metadata": {},
   "source": [
    "simOut = sim(mdl);"
   ],
   "outputs": []
  },
  {
   "cell_type": "code",
   "execution_count": 3,
   "metadata": {},
   "source": [
    "simData = extractTimetable(simOut.logsout);\n",
    "CtrlEnv_plotResults( SimData = simData, ...\n",
    "  FigureHeight = 200 );"
   ],
   "outputs": []
}
,
  {
   "cell_type": "markdown",
   "metadata": {},
   "source": [
    "\n",
    "*Copyright 2023 The MathWorks, Inc.*\n",
    "\n",
    ""
   ]
  }
 ],
 "metadata": {
  "kernelspec": {
   "display_name": "MATLAB (matlabkernel)",
   "language": "matlab",
   "name": "matlab"
  },
  "language_info": {
   "file_extension": ".m",
   "mimetype": "text/matlab",
   "name": "matlab",
   "nbconvert_exporter": "matlab",
   "pygments_lexer": "matlab",
   "version": "23.2.0.2365128"
  }
 },
 "nbformat": 4,
 "nbformat_minor": 4
}