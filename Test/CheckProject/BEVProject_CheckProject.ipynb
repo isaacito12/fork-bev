{
 "cells": [
  {
   "cell_type": "markdown",
   "metadata": {},
   "source": [
    "\n",
    "# <span style=\"color:rgb(213,80,0)\">Check MATLAB Project</span>\n",
    "## Programatically run MATLAB Project's Run Checks\n",
    "\n",
    "Running this script is basically the same as clicking the **Check Project** button in the Project toolstrip.\n",
    ""
   ]
  },
  {
   "cell_type": "code",
   "execution_count": 1,
   "metadata": {},
   "source": [
    "RelStr = matlabRelease().Release;\n",
    "disp(\"This is MATLAB \" + RelStr + \".\")"
   ],
   "outputs": [
    {
     "data": {
      "text/plain": [
       "This is MATLAB R2023b."
      ]
     },
     "metadata": {},
     "execution_count":  1,
     "output_type": "execute_result"
    }
   ]
  },
  {
   "cell_type": "code",
   "execution_count": 2,
   "metadata": {},
   "source": [
    "prj = currentProject;\n",
    "updateDependencies(prj);\n",
    "checkResults = runChecks(prj);\n",
    "resultTable = table(checkResults);  % *.Passed, *.ID, *.Description\n",
    "disp(resultTable(:, [\"Passed\", \"Description\"]))"
   ],
   "outputs": [
    {
     "data": {
      "text/plain": [
       "    Passed                                        Description                                    \n",
       "    ______    ___________________________________________________________________________________\n",
       "    true      \"All project folders exist.\"                                                       \n",
       "    true      \"All project files exist on the file system.\"                                      \n",
       "    true      \"All project folders on the MATLAB search path are on the project path.\"           \n",
       "    true      \"All projects in sub-folders are referenced by this project.\"                      \n",
       "    false     \"Check for project files with unsaved changes.\"                                    \n",
       "    true      \"All derived files in the project are up-to-date.\"                                 \n",
       "    true      \"Model files saved in a different format (MDL or SLX) are added to the project....\""
      ]
     },
     "metadata": {},
     "execution_count":  2,
     "output_type": "execute_result"
    }
   ]
  },
  {
   "cell_type": "markdown",
   "metadata": {},
   "source": [
    "\n",
    "Check all passed.\n",
    ""
   ]
  },
  {
   "cell_type": "code",
   "execution_count": 3,
   "metadata": {},
   "source": [
    "assert(all(resultTable.Passed==true))"
   ],
   "outputs": [
    {
     "data": {
      "text/plain": [
       "Error using assert\n",
       "Assertion failed."
      ]
     },
     "metadata": {},
     "execution_count":  3,
     "output_type": "execute_result"
    }
   ]
  },
  {
   "cell_type": "markdown",
   "metadata": {},
   "source": [
    "\n",
    "*Copyright 2022-2023 The MathWorks, Inc.*\n",
    "\n",
    ""
   ]
  }
 ],
 "metadata": {
  "kernelspec": {
   "display_name": "MATLAB (matlabkernel)",
   "language": "matlab",
   "name": "matlab"
  },
  "language_info": {
   "file_extension": ".m",
   "mimetype": "text/matlab",
   "name": "matlab",
   "nbconvert_exporter": "matlab",
   "pygments_lexer": "matlab",
   "version": "23.2.0.2365128"
  }
 },
 "nbformat": 4,
 "nbformat_minor": 4
}