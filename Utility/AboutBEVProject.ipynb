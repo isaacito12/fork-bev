{
 "cells": [
  {
   "cell_type": "markdown",
   "metadata": {},
   "source": [
    "\n",
    "# <span style=\"color:rgb(213,80,0)\">About BEV Project</span>\n",
    "\n",
    "This Live Script reports about some details of the BEV project. For information about MATLAB Project, see [Projects](https://www.mathworks.com/help/matlab/projects.html) in the documentation. For information about the object of MATLAB Project, see [<samp>matlab.project.Project</samp>](https://www.mathworks.com/help/matlab/ref/matlab.project.project.html).\n",
    ""
   ]
  },
  {
   "cell_type": "code",
   "execution_count": 1,
   "metadata": {},
   "source": [
    "% Check if any MATLAB Project is currently open.\n",
    "if not(isempty(matlab.project.rootProject))\n",
    "  prj = currentProject;\n",
    "  disp(prj.Name)\n",
    "  rootfolder = prj.RootFolder;\n",
    "else\n",
    "  disp(\"No project is open.\")\n",
    "  return\n",
    "end"
   ],
   "outputs": [
    {
     "data": {
      "text/plain": [
       "Simscape Battery Electric Vehicle Model"
      ]
     },
     "metadata": {},
     "execution_count":  1,
     "output_type": "execute_result"
    }
   ]
  },
  {
   "cell_type": "markdown",
   "metadata": {},
   "source": [
    "### Project Paths"
   ]
  },
  {
   "cell_type": "code",
   "execution_count": 2,
   "metadata": {},
   "source": [
    "paths = [prj.ProjectPath.StoredLocation]';\n",
    "disp(paths)"
   ],
   "outputs": [
    {
     "data": {
      "text/plain": [
       "    \"\"\n",
       "    \"BEV\"\n",
       "    \"BEV/SimulationCases\"\n",
       "    \"BEV/Test\"\n",
       "    \"BEV/Utility\"\n",
       "    \"BEV/Utility/Configuration\"\n",
       "    \"BEV/Utility/Images\"\n",
       "    \"BEV/Utility/LocalTasks\"\n",
       "    \"Components\"\n",
       "    \"Components/BEVController\"\n",
       "    \"Components/BEVController/Harness\"\n",
       "    \"Components/BEVController/SimulationCases\"\n",
       "    \"Components/BEVController/Test\"\n",
       "    \"Components/BEVController/Utility\"\n",
       "    \"Components/BEVController/Utility/Configuration\"\n",
       "    \"Components/BatteryHighVoltage\"\n",
       "    \"Components/BatteryHighVoltage/Harness\"\n",
       "    \"Components/BatteryHighVoltage/Model-TabledBased\"\n",
       "    \"Components/BatteryHighVoltage/SimulationCases\"\n",
       "    \"Components/BatteryHighVoltage/Test\"\n",
       "    \"Components/BatteryHighVoltage/Utility\"\n",
       "    \"Components/BatteryHighVoltage/Utility/Configuration\"\n",
       "    \"Components/BatteryHighVoltage/Utility/Images\"\n",
       "    \"Components/BatteryHighVoltage/Utility/LocalTasks\"\n",
       "    \"Components/ControllerAndEnvironment\"\n",
       "    \"Components/ControllerAndEnvironment/Harness\"\n",
       "    \"Components/ControllerAndEnvironment/Harness/Components\"\n",
       "    \"Components/ControllerAndEnvironment/Harness/Components/Vehicle\"\n",
       "    \"Components/ControllerAndEnvironment/Harness/Components/Vehicle/Harness\"\n",
       "    \"Components/ControllerAndEnvironment/Harness/Components/Vehicle/SimulationCases\"\n",
       "    \"Components/ControllerAndEnvironment/Harness/Components/Vehicle/Test\"\n",
       "    \"Components/ControllerAndEnvironment/Harness/Components/Vehicle/Utility\"\n",
       "    \"Components/ControllerAndEnvironment/Harness/Components/Vehicle/Utility/Configuration\"\n",
       "    \"Components/ControllerAndEnvironment/SimulationCases\"\n",
       "    \"Components/ControllerAndEnvironment/Test\"\n",
       "    \"Components/ControllerAndEnvironment/Utility\"\n",
       "    \"Components/ControllerAndEnvironment/Utility/Configuration\"\n",
       "    \"Components/MotorDriveUnit\"\n",
       "    \"Components/MotorDriveUnit/Harness\"\n",
       "    \"Components/MotorDriveUnit/Notes-Efficiency\"\n",
       "    \"Components/MotorDriveUnit/SimulationCases\"\n",
       "    \"Components/MotorDriveUnit/Test\"\n",
       "    \"Components/MotorDriveUnit/Utility\"\n",
       "    \"Components/MotorDriveUnit/Utility/Configuration\"\n",
       "    \"Components/MotorDriveUnit/Utility/Images\"\n",
       "    \"Components/Reducer\"\n",
       "    \"Components/Reducer/Utility\"\n",
       "    \"Components/Reducer/Utility/Images\"\n",
       "    \"Components/Vehicle1D\"\n",
       "    \"Components/Vehicle1D/Custom\"\n",
       "    \"Components/Vehicle1D/Harness\"\n",
       "    \"Components/Vehicle1D/SimulationCases\"\n",
       "    \"Components/Vehicle1D/Test\"\n",
       "    \"Components/Vehicle1D/Utility\"\n",
       "    \"Components/Vehicle1D/Utility/Configuration\"\n",
       "    \"Components/Vehicle1D/Utility/Images\"\n",
       "    \"Components/VehicleSpeedReference\"\n",
       "    \"Components/VehicleSpeedReference/Harness\"\n",
       "    \"Components/VehicleSpeedReference/SimulationCases\"\n",
       "    \"Components/VehicleSpeedReference/Test\"\n",
       "    \"Components/VehicleSpeedReference/Utility\"\n",
       "    \"Components/VehicleSpeedReference/Utility/Configuration\"\n",
       "    \"DetailedModelApplications\"\n",
       "    \"DetailedModelApplications/MotorDrivePmsmFem\"\n",
       "    \"DetailedModelApplications/MotorPmsmFem\"\n",
       "    \"Interface\"\n",
       "    \"Test\"\n",
       "    \"Test/CheckProject\"\n",
       "    \"Utility\"\n",
       "    \"Utility/Checks\"\n",
       "    \"Utility/LocalTasks\"\n",
       "    \"Utility/SignalDesigner\"\n",
       "    \"Utility/TestTools\"\n",
       "    \"simcache\""
      ]
     },
     "metadata": {},
     "execution_count":  2,
     "output_type": "execute_result"
    }
   ]
  },
  {
   "cell_type": "markdown",
   "metadata": {},
   "source": [
    "### Startup Files"
   ]
  },
  {
   "cell_type": "code",
   "execution_count": 3,
   "metadata": {},
   "source": [
    "startups = extractAfter([prj.StartupFiles]', rootfolder);\n",
    "disp(startups)"
   ],
   "outputs": [
    {
     "data": {
      "text/plain": [
       "    \"/Utility/atProjectStartUp.m\"\n",
       "    \"/BEVProject_main_script.html\""
      ]
     },
     "metadata": {},
     "execution_count":  3,
     "output_type": "execute_result"
    }
   ]
  },
  {
   "cell_type": "markdown",
   "metadata": {},
   "source": [
    "### Simulink cache folder"
   ]
  },
  {
   "cell_type": "code",
   "execution_count": 4,
   "metadata": {},
   "source": [
    "simcache = extractAfter(prj.SimulinkCacheFolder, rootfolder);\n",
    "disp(simcache)"
   ],
   "outputs": [
    {
     "data": {
      "text/plain": [
       "/simcache"
      ]
     },
     "metadata": {},
     "execution_count":  4,
     "output_type": "execute_result"
    }
   ]
  },
  {
   "cell_type": "markdown",
   "metadata": {},
   "source": [
    "## Files in Project\n",
    "\n",
    "The number of files in the project\n",
    ""
   ]
  },
  {
   "cell_type": "code",
   "execution_count": 5,
   "metadata": {},
   "source": [
    "numel(prj.Files)"
   ],
   "outputs": [
    {
     "data": {
      "text/plain": [
       "ans = 354"
      ]
     },
     "metadata": {},
     "execution_count":  5,
     "output_type": "execute_result"
    }
   ]
  },
  {
   "cell_type": "code",
   "execution_count": 6,
   "metadata": {},
   "source": [
    "files = extractAfter([prj.Files.Path]', rootfolder);\n",
    "% disp(files)"
   ],
   "outputs": []
  },
  {
   "cell_type": "markdown",
   "metadata": {},
   "source": [
    "\n",
    "System Models\n",
    ""
   ]
  },
  {
   "cell_type": "code",
   "execution_count": 7,
   "metadata": {},
   "source": [
    "idx = contains(files, \"system_model\", IgnoreCase=true);\n",
    "sysmdls = files(idx);\n",
    "disp(sysmdls)"
   ],
   "outputs": [
    {
     "data": {
      "text/plain": [
       "    \"/BEV/BEV_system_model.mdl\"\n",
       "    \"/BEV/Utility/Images/BEV_system_model_screenshot.png\""
      ]
     },
     "metadata": {},
     "execution_count":  7,
     "output_type": "execute_result"
    }
   ]
  },
  {
   "cell_type": "markdown",
   "metadata": {},
   "source": [
    "\n",
    "Referenced Subsystems\n",
    ""
   ]
  },
  {
   "cell_type": "code",
   "execution_count": 8,
   "metadata": {},
   "source": [
    "idx = contains(files, \"refsub\", IgnoreCase=true);\n",
    "refsubs = files(idx);\n",
    "numel(refsubs)"
   ],
   "outputs": [
    {
     "data": {
      "text/plain": [
       "ans = 44"
      ]
     },
     "metadata": {},
     "execution_count":  8,
     "output_type": "execute_result"
    }
   ]
  },
  {
   "cell_type": "code",
   "execution_count": 9,
   "metadata": {},
   "source": [
    "disp(refsubs)"
   ],
   "outputs": [
    {
     "data": {
      "text/plain": [
       "    \"/Components/BEVController/BEVController_refsub_Basic.mdl\"\n",
       "    \"/Components/BEVController/BEVController_refsub_Basic_params.m\"\n",
       "    \"/Components/BEVController/Utility/Configuration/BEVController_useRefsub.m\"\n",
       "    \"/Components/BEVController/Utility/Configuration/BEVController_useRefsub_Basic.m\"\n",
       "    \"/Components/BatteryHighVoltage/BatteryHV_refsub_Basic.mdl\"\n",
       "    \"/Components/BatteryHighVoltage/BatteryHV_refsub_Basic_params.m\"\n",
       "    \"/Components/BatteryHighVoltage/BatteryHV_refsub_System.mdl\"\n",
       "    \"/Components/BatteryHighVoltage/BatteryHV_refsub_SystemSimple.mdl\"\n",
       "    \"/Components/BatteryHighVoltage/BatteryHV_refsub_SystemSimple_params.m\"\n",
       "    \"/Components/BatteryHighVoltage/BatteryHV_refsub_SystemTable.mdl\"\n",
       "    \"/Components/BatteryHighVoltage/BatteryHV_refsub_SystemTable_params.m\"\n",
       "    \"/Components/BatteryHighVoltage/BatteryHV_refsub_System_params.m\"\n",
       "    \"/Components/BatteryHighVoltage/Utility/Configuration/BatteryHV_useRefsub.m\"\n",
       "    \"/Components/BatteryHighVoltage/Utility/Configuration/BatteryHV_useRefsub_Basic.m\"\n",
       "    \"/Components/BatteryHighVoltage/Utility/Configuration/BatteryHV_useRefsub_System.m\"\n",
       "    \"/Components/BatteryHighVoltage/Utility/Configuration/BatteryHV_useRefsub_SystemSimple.m\"\n",
       "    \"/Components/BatteryHighVoltage/Utility/Configuration/BatteryHV_useRefsub_SystemTable.m\"\n",
       "    \"/Components/ControllerAndEnvironment/CtrlEnv_refsub_Basic.mdl\"\n",
       "    \"/Components/ControllerAndEnvironment/CtrlEnv_refsub_Basic_params.m\"\n",
       "    \"/Components/ControllerAndEnvironment/Harness/Components/Vehicle/CtrlEnv_Vehicle_refsub.mdl\"\n",
       "    \"/Components/ControllerAndEnvironment/Harness/Components/Vehicle/CtrlEnv_Vehicle_refsub_params.m\"\n",
       "    \"/Components/MotorDriveUnit/MotorDriveUnit_refsub_Basic.mdl\"\n",
       "    \"/Components/MotorDriveUnit/MotorDriveUnit_refsub_BasicThermal.mdl\"\n",
       "    \"/Components/MotorDriveUnit/MotorDriveUnit_refsub_BasicThermal_params.m\"\n",
       "    \"/Components/MotorDriveUnit/MotorDriveUnit_refsub_Basic_params.m\"\n",
       "    \"/Components/MotorDriveUnit/MotorDriveUnit_refsub_System.mdl\"\n",
       "    \"/Components/MotorDriveUnit/MotorDriveUnit_refsub_SystemTable.mdl\"\n",
       "    \"/Components/MotorDriveUnit/MotorDriveUnit_refsub_SystemTable_params.m\"\n",
       "    \"/Components/MotorDriveUnit/MotorDriveUnit_refsub_System_params.m\"\n",
       "    \"/Components/MotorDriveUnit/Utility/Configuration/MotorDriveUnit_useRefsub.m\"\n",
       "    \"/Components/MotorDriveUnit/Utility/Configuration/MotorDriveUnit_useRefsub_Basic.m\"\n",
       "    \"/Components/MotorDriveUnit/Utility/Configuration/MotorDriveUnit_useRefsub_BasicThermal.m\"\n",
       "    \"/Components/MotorDriveUnit/Utility/Configuration/MotorDriveUnit_useRefsub_System.m\"\n",
       "    \"/Components/MotorDriveUnit/Utility/Configuration/MotorDriveUnit_useRefsub_SystemTable.m\"\n",
       "    \"/Components/MotorDriveUnit/Utility/Images/MotorDriveUnit_refsub_Basic_efficiency.png\"\n",
       "    \"/Components/MotorDriveUnit/Utility/Images/MotorDriveUnit_refsub_System_efficiency.png\"\n",
       "    \"/Components/Reducer/Reducer_refsub_Basic.mdl\"\n",
       "    \"/Components/Reducer/Reducer_refsub_Basic_params.m\"\n",
       "    \"/Components/Vehicle1D/Custom/Vehicle1D_refsub_Custom.mdl\"\n",
       "    \"/Components/Vehicle1D/Utility/Images/Vehicle1D_refsub_Basic_ResistingForcePower.png\"\n",
       "    \"/Components/Vehicle1D/Vehicle1D_refsub_Basic.mdl\"\n",
       "    \"/Components/Vehicle1D/Vehicle1D_refsub_Basic_params.m\"\n",
       "    \"/Components/VehicleSpeedReference/VehSpdRef_refsub_Basic.mdl\"\n",
       "    \"/DetailedModelApplications/MotorPmsmFem/PmsmFemRefSub.mdl\""
      ]
     },
     "metadata": {},
     "execution_count":  9,
     "output_type": "execute_result"
    }
   ]
  },
  {
   "cell_type": "markdown",
   "metadata": {},
   "source": [
    "\n",
    "Simscape custom components\n",
    ""
   ]
  },
  {
   "cell_type": "code",
   "execution_count": 10,
   "metadata": {},
   "source": [
    "idx = endsWith(files, \".ssc\");\n",
    "sscfiles = files(idx);\n",
    "numel(sscfiles)"
   ],
   "outputs": [
    {
     "data": {
      "text/plain": [
       "ans = 1"
      ]
     },
     "metadata": {},
     "execution_count":  10,
     "output_type": "execute_result"
    }
   ]
  },
  {
   "cell_type": "code",
   "execution_count": 11,
   "metadata": {},
   "source": [
    "disp(sscfiles)"
   ],
   "outputs": [
    {
     "data": {
      "text/plain": [
       "/Components/Vehicle1D/Custom/Vehicle1D_Custom.ssc"
      ]
     },
     "metadata": {},
     "execution_count":  11,
     "output_type": "execute_result"
    }
   ]
  },
  {
   "cell_type": "markdown",
   "metadata": {},
   "source": [
    "\n",
    "*Copyright 2022-2023 The MathWorks, Inc.*\n",
    "\n",
    ""
   ]
  }
 ],
 "metadata": {
  "kernelspec": {
   "display_name": "MATLAB (matlabkernel)",
   "language": "matlab",
   "name": "matlab"
  },
  "language_info": {
   "file_extension": ".m",
   "mimetype": "text/matlab",
   "name": "matlab",
   "nbconvert_exporter": "matlab",
   "pygments_lexer": "matlab",
   "version": "23.2.0.2365128"
  }
 },
 "nbformat": 4,
 "nbformat_minor": 4
}